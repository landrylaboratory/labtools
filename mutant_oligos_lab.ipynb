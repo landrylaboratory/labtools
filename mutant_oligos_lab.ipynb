{
 "cells": [
  {
   "cell_type": "markdown",
   "metadata": {},
   "source": [
    "# Mutagenesis oligo generator\n",
    "\n",
    "This code will receive the following:\n",
    "- FASTA file with a gene of interest\n",
    "- Position to mutate\n",
    "- New residue at that position\n",
    "\n",
    "It will generate sequences for oligonucleotides that can help us get the mutation."
   ]
  },
  {
   "cell_type": "code",
   "execution_count": 1,
   "metadata": {
    "collapsed": false
   },
   "outputs": [],
   "source": [
    "import csv\n",
    "from collections import OrderedDict\n",
    "from Bio import SeqIO\n",
    "from Bio import Seq"
   ]
  },
  {
   "cell_type": "markdown",
   "metadata": {},
   "source": [
    "## 1.- Load the sequence"
   ]
  },
  {
   "cell_type": "code",
   "execution_count": 2,
   "metadata": {
    "collapsed": true
   },
   "outputs": [],
   "source": [
    "target_gene = SeqIO.parse(<input_sequence>, 'fasta')\n",
    "target_seq = str(target_gene.next().seq)"
   ]
  },
  {
   "cell_type": "code",
   "execution_count": 3,
   "metadata": {
    "collapsed": false
   },
   "outputs": [
    {
     "data": {
      "text/plain": [
       "'ATGTCGGCAAACGATAAGCAATACATCTCGTACAACAACGTACATCAACTATGTCAAGTATCCGCTGAGAGAATTAAGAATTTCAAGCCGGACTTAATCATTGCCATTGGTGGTGGTGGTTTCATTCCTGCTAGGATCCTACGTACGTTCCTAAAGGAGCCCGGCGTGCCAACCATCAGAATTTTTGCTATTATTTTGTCTTTGTACGAAGATTTGAACAGTGTAGGCTCAGAAGTTGAGGAAGTTGGTGTTAAGGTTAGCAGAACACAATGGATTGATTACGAGCAATGTAAATTAGATCTAGTCGGCAAGAACGTTCTTATCGTTGACGAAGTCGATGACACCCGTACCACACTTCATTACGCTTTGAGTGAATTGGAAAAGGATGCAGCTGAACAGGCAAAGGCTAAAGGTATCGATACTGAAAAGTCTCCAGAGATGAAAACAAACTTCGGGATTTTTGTTCTACACGATAAGCAAAAACCAAAGAAAGCAGATTTGCCTGCCGAAATGTTGAATGACAAGAACCGTTATTTTGCAGCTAAAACTGTTCCAGACAAGTGGTATGCATATCCATGGGAATCTACTGACATTGTTTTCCATACTAGAATGGCTATTGAACAGGGCAATGACATCTTTATTCCTGAGCAGGAACACAAGCAATGA'"
      ]
     },
     "execution_count": 3,
     "metadata": {},
     "output_type": "execute_result"
    }
   ],
   "source": [
    "target_seq"
   ]
  },
  {
   "cell_type": "markdown",
   "metadata": {},
   "source": [
    "## 2.- Split sequence in codons"
   ]
  },
  {
   "cell_type": "code",
   "execution_count": 4,
   "metadata": {
    "collapsed": false
   },
   "outputs": [],
   "source": [
    "target_seq_codons = [target_seq[3*i:3*(i+1)]  for i in range(len(target_seq)/3)]"
   ]
  },
  {
   "cell_type": "code",
   "execution_count": 5,
   "metadata": {
    "collapsed": false
   },
   "outputs": [
    {
     "data": {
      "text/plain": [
       "['ATG',\n",
       " 'TCG',\n",
       " 'GCA',\n",
       " 'AAC',\n",
       " 'GAT',\n",
       " 'AAG',\n",
       " 'CAA',\n",
       " 'TAC',\n",
       " 'ATC',\n",
       " 'TCG',\n",
       " 'TAC',\n",
       " 'AAC',\n",
       " 'AAC',\n",
       " 'GTA',\n",
       " 'CAT',\n",
       " 'CAA',\n",
       " 'CTA',\n",
       " 'TGT',\n",
       " 'CAA',\n",
       " 'GTA',\n",
       " 'TCC',\n",
       " 'GCT',\n",
       " 'GAG',\n",
       " 'AGA',\n",
       " 'ATT',\n",
       " 'AAG',\n",
       " 'AAT',\n",
       " 'TTC',\n",
       " 'AAG',\n",
       " 'CCG',\n",
       " 'GAC',\n",
       " 'TTA',\n",
       " 'ATC',\n",
       " 'ATT',\n",
       " 'GCC',\n",
       " 'ATT',\n",
       " 'GGT',\n",
       " 'GGT',\n",
       " 'GGT',\n",
       " 'GGT',\n",
       " 'TTC',\n",
       " 'ATT',\n",
       " 'CCT',\n",
       " 'GCT',\n",
       " 'AGG',\n",
       " 'ATC',\n",
       " 'CTA',\n",
       " 'CGT',\n",
       " 'ACG',\n",
       " 'TTC',\n",
       " 'CTA',\n",
       " 'AAG',\n",
       " 'GAG',\n",
       " 'CCC',\n",
       " 'GGC',\n",
       " 'GTG',\n",
       " 'CCA',\n",
       " 'ACC',\n",
       " 'ATC',\n",
       " 'AGA',\n",
       " 'ATT',\n",
       " 'TTT',\n",
       " 'GCT',\n",
       " 'ATT',\n",
       " 'ATT',\n",
       " 'TTG',\n",
       " 'TCT',\n",
       " 'TTG',\n",
       " 'TAC',\n",
       " 'GAA',\n",
       " 'GAT',\n",
       " 'TTG',\n",
       " 'AAC',\n",
       " 'AGT',\n",
       " 'GTA',\n",
       " 'GGC',\n",
       " 'TCA',\n",
       " 'GAA',\n",
       " 'GTT',\n",
       " 'GAG',\n",
       " 'GAA',\n",
       " 'GTT',\n",
       " 'GGT',\n",
       " 'GTT',\n",
       " 'AAG',\n",
       " 'GTT',\n",
       " 'AGC',\n",
       " 'AGA',\n",
       " 'ACA',\n",
       " 'CAA',\n",
       " 'TGG',\n",
       " 'ATT',\n",
       " 'GAT',\n",
       " 'TAC',\n",
       " 'GAG',\n",
       " 'CAA',\n",
       " 'TGT',\n",
       " 'AAA',\n",
       " 'TTA',\n",
       " 'GAT',\n",
       " 'CTA',\n",
       " 'GTC',\n",
       " 'GGC',\n",
       " 'AAG',\n",
       " 'AAC',\n",
       " 'GTT',\n",
       " 'CTT',\n",
       " 'ATC',\n",
       " 'GTT',\n",
       " 'GAC',\n",
       " 'GAA',\n",
       " 'GTC',\n",
       " 'GAT',\n",
       " 'GAC',\n",
       " 'ACC',\n",
       " 'CGT',\n",
       " 'ACC',\n",
       " 'ACA',\n",
       " 'CTT',\n",
       " 'CAT',\n",
       " 'TAC',\n",
       " 'GCT',\n",
       " 'TTG',\n",
       " 'AGT',\n",
       " 'GAA',\n",
       " 'TTG',\n",
       " 'GAA',\n",
       " 'AAG',\n",
       " 'GAT',\n",
       " 'GCA',\n",
       " 'GCT',\n",
       " 'GAA',\n",
       " 'CAG',\n",
       " 'GCA',\n",
       " 'AAG',\n",
       " 'GCT',\n",
       " 'AAA',\n",
       " 'GGT',\n",
       " 'ATC',\n",
       " 'GAT',\n",
       " 'ACT',\n",
       " 'GAA',\n",
       " 'AAG',\n",
       " 'TCT',\n",
       " 'CCA',\n",
       " 'GAG',\n",
       " 'ATG',\n",
       " 'AAA',\n",
       " 'ACA',\n",
       " 'AAC',\n",
       " 'TTC',\n",
       " 'GGG',\n",
       " 'ATT',\n",
       " 'TTT',\n",
       " 'GTT',\n",
       " 'CTA',\n",
       " 'CAC',\n",
       " 'GAT',\n",
       " 'AAG',\n",
       " 'CAA',\n",
       " 'AAA',\n",
       " 'CCA',\n",
       " 'AAG',\n",
       " 'AAA',\n",
       " 'GCA',\n",
       " 'GAT',\n",
       " 'TTG',\n",
       " 'CCT',\n",
       " 'GCC',\n",
       " 'GAA',\n",
       " 'ATG',\n",
       " 'TTG',\n",
       " 'AAT',\n",
       " 'GAC',\n",
       " 'AAG',\n",
       " 'AAC',\n",
       " 'CGT',\n",
       " 'TAT',\n",
       " 'TTT',\n",
       " 'GCA',\n",
       " 'GCT',\n",
       " 'AAA',\n",
       " 'ACT',\n",
       " 'GTT',\n",
       " 'CCA',\n",
       " 'GAC',\n",
       " 'AAG',\n",
       " 'TGG',\n",
       " 'TAT',\n",
       " 'GCA',\n",
       " 'TAT',\n",
       " 'CCA',\n",
       " 'TGG',\n",
       " 'GAA',\n",
       " 'TCT',\n",
       " 'ACT',\n",
       " 'GAC',\n",
       " 'ATT',\n",
       " 'GTT',\n",
       " 'TTC',\n",
       " 'CAT',\n",
       " 'ACT',\n",
       " 'AGA',\n",
       " 'ATG',\n",
       " 'GCT',\n",
       " 'ATT',\n",
       " 'GAA',\n",
       " 'CAG',\n",
       " 'GGC',\n",
       " 'AAT',\n",
       " 'GAC',\n",
       " 'ATC',\n",
       " 'TTT',\n",
       " 'ATT',\n",
       " 'CCT',\n",
       " 'GAG',\n",
       " 'CAG',\n",
       " 'GAA',\n",
       " 'CAC',\n",
       " 'AAG',\n",
       " 'CAA',\n",
       " 'TGA']"
      ]
     },
     "execution_count": 5,
     "metadata": {},
     "output_type": "execute_result"
    }
   ],
   "source": [
    "target_seq_codons"
   ]
  },
  {
   "cell_type": "markdown",
   "metadata": {},
   "source": [
    "## 3.- Produce the oligonucleotides"
   ]
  },
  {
   "cell_type": "code",
   "execution_count": 16,
   "metadata": {
    "collapsed": true
   },
   "outputs": [],
   "source": [
    "# Save the most abundant codons in a dictionary\n",
    "# These are for yeast but codon usage data for other organisms can be found at:\n",
    "# https://www.genscript.com/tools/codon-frequency-table\n",
    "most_abundant = {\n",
    "    'C': 'TGT',\n",
    "    'D': 'GAT',\n",
    "    'S': 'TCT',\n",
    "    'Q': 'CAA',\n",
    "    'K': 'AAA',\n",
    "    'I': 'ATT',\n",
    "    'P': 'CCA',\n",
    "    'T': 'ACT',\n",
    "    'F': 'TTT',\n",
    "    'N': 'AAT',\n",
    "    'G': 'GGT',\n",
    "    'H': 'CAT',\n",
    "    'L': 'TTG',\n",
    "    'R': 'AGA',\n",
    "    'W': 'TGG',\n",
    "    'A': 'GCT',\n",
    "    'V': 'GTT',\n",
    "    'E': 'GAA',\n",
    "    'Y': 'TAT',\n",
    "    'M': 'ATG'\n",
    "}"
   ]
  },
  {
   "cell_type": "code",
   "execution_count": 17,
   "metadata": {
    "collapsed": true
   },
   "outputs": [],
   "source": [
    "# Load a table with mutations\n",
    "# Should have three columns:\n",
    "# 1.- Original residue\n",
    "# 2.- Position\n",
    "# 3.- Target residue\n",
    "handle_mutations = open(<input_list_mutations>, 'r')\n",
    "reader_mut = csv.reader(handle_mutations)\n",
    "# Skip the first line\n",
    "header = reader_mut.next()"
   ]
  },
  {
   "cell_type": "code",
   "execution_count": 18,
   "metadata": {
    "collapsed": false
   },
   "outputs": [],
   "source": [
    "# Prepare the output file\n",
    "out_handle = open(<output_file>, 'w')\n",
    "oligos_writer = csv.writer(out_handle, delimiter = '\\t')\n",
    "\n",
    "oligos_writer.writerow(['Original_res', 'Position', 'Target_res', 'OligoF', 'OligoR'])\n",
    "\n",
    "for line in reader_mut:\n",
    "    position = int(line[1])\n",
    "    new_res = line[2]\n",
    "    \n",
    "    # Print the 17 previous bases, the new codon, the following 17 bases\n",
    "    prev_bases = ''.join(target_seq_codons[position-7:position-1])[1:]\n",
    "    next_bases = ''.join(target_seq_codons[position:position+6])[:-1]\n",
    "    oligoF = Seq.Seq(prev_bases + most_abundant[new_res].lower() + next_bases)\n",
    "    \n",
    "    # Get the reverse complement\n",
    "    oligoR = oligoF.reverse_complement()\n",
    "    \n",
    "    new_row = [line[0], line[1], line[2], str(oligoF), str(oligoR)]\n",
    "    oligos_writer.writerow(new_row)\n",
    "    \n",
    "out_handle.close()"
   ]
  },
  {
   "cell_type": "code",
   "execution_count": null,
   "metadata": {
    "collapsed": false
   },
   "outputs": [],
   "source": []
  },
  {
   "cell_type": "code",
   "execution_count": null,
   "metadata": {
    "collapsed": false
   },
   "outputs": [],
   "source": []
  },
  {
   "cell_type": "code",
   "execution_count": null,
   "metadata": {
    "collapsed": true
   },
   "outputs": [],
   "source": []
  }
 ],
 "metadata": {
  "kernelspec": {
   "display_name": "Python 2",
   "language": "python",
   "name": "python2"
  },
  "language_info": {
   "codemirror_mode": {
    "name": "ipython",
    "version": 2
   },
   "file_extension": ".py",
   "mimetype": "text/x-python",
   "name": "python",
   "nbconvert_exporter": "python",
   "pygments_lexer": "ipython2",
   "version": "2.7.9"
  }
 },
 "nbformat": 4,
 "nbformat_minor": 1
}
